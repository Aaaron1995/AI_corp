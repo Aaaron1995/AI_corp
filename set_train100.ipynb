{
  "nbformat": 4,
  "nbformat_minor": 0,
  "metadata": {
    "colab": {
      "provenance": [],
      "collapsed_sections": [],
      "authorship_tag": "ABX9TyPXe7i+fcDjXsg9QVyEl6xB",
      "include_colab_link": true
    },
    "kernelspec": {
      "name": "python3",
      "display_name": "Python 3"
    },
    "language_info": {
      "name": "python"
    }
  },
  "cells": [
    {
      "cell_type": "markdown",
      "metadata": {
        "id": "view-in-github",
        "colab_type": "text"
      },
      "source": [
        "<a href=\"https://colab.research.google.com/github/Aaaron1995/AI_corp/blob/main/set_train100.ipynb\" target=\"_parent\"><img src=\"https://colab.research.google.com/assets/colab-badge.svg\" alt=\"Open In Colab\"/></a>"
      ]
    },
    {
      "cell_type": "code",
      "execution_count": 3,
      "metadata": {
        "colab": {
          "base_uri": "https://localhost:8080/"
        },
        "id": "xVL4s4MUtQcn",
        "outputId": "17eb6439-2f41-43ce-f4c8-c5e059ce007a"
      },
      "outputs": [
        {
          "output_type": "stream",
          "name": "stdout",
          "text": [
            "Mounted at /content/drive\n"
          ]
        }
      ],
      "source": [
        "from google.colab import drive\n",
        "drive.mount('/content/drive')"
      ]
    },
    {
      "cell_type": "code",
      "source": [
        "%cd /content/drive/MyDrive/'AI突擊!'/5_training/\n",
        "%ls /content/drive/MyDrive/'AI突擊!'/5_training/"
      ],
      "metadata": {
        "colab": {
          "base_uri": "https://localhost:8080/"
        },
        "id": "doOVaENrtVZH",
        "outputId": "70b7f54b-2df4-40c0-a7b0-0105bd606ef1"
      },
      "execution_count": 4,
      "outputs": [
        {
          "output_type": "stream",
          "name": "stdout",
          "text": [
            "/content/drive/MyDrive/AI突擊!/5_training\n",
            "\u001b[0m\u001b[01;34m100_crop\u001b[0m/                \u001b[01;34mcustardapple\u001b[0m/  \u001b[01;34mloofah\u001b[0m/        \u001b[01;34mroseapple\u001b[0m/\n",
            "AiCup2022秋季賽宣傳.pdf  \u001b[01;34mgrape\u001b[0m/         \u001b[01;34mmango\u001b[0m/         \u001b[01;34msesbania\u001b[0m/\n",
            "\u001b[01;34masparagus\u001b[0m/               \u001b[01;34mgreenhouse\u001b[0m/    \u001b[01;34monion\u001b[0m/         \u001b[01;34msoybeans\u001b[0m/\n",
            "\u001b[01;34mbambooshoots\u001b[0m/            \u001b[01;34mgreenonion\u001b[0m/    \u001b[01;34mothers\u001b[0m/        \u001b[01;34msunhemp\u001b[0m/\n",
            "\u001b[01;34mbetel\u001b[0m/                   \u001b[01;34mkale\u001b[0m/          \u001b[01;34mpapaya\u001b[0m/        \u001b[01;34msweetpotato\u001b[0m/\n",
            "\u001b[01;34mbroccoli\u001b[0m/                \u001b[01;34mlemon\u001b[0m/         \u001b[01;34mpassionfruit\u001b[0m/  tag_locCoor.csv\n",
            "\u001b[01;34mcauliflower\u001b[0m/             \u001b[01;34mlettuce\u001b[0m/       \u001b[01;34mpear\u001b[0m/          \u001b[01;34mtaro\u001b[0m/\n",
            "\u001b[01;34mchinesecabbage\u001b[0m/          \u001b[01;34mlitchi\u001b[0m/        \u001b[01;34mpennisetum\u001b[0m/    \u001b[01;34mtea\u001b[0m/\n",
            "\u001b[01;34mchinesechives\u001b[0m/           \u001b[01;34mlongan\u001b[0m/        \u001b[01;34mredbeans\u001b[0m/      \u001b[01;34mwaterbamboo\u001b[0m/\n"
          ]
        }
      ]
    },
    {
      "cell_type": "code",
      "source": [
        "!pip install opencv-python \n",
        "!pip install opencv-contrib-python\n",
        "!pip install numpy\n",
        "!pip install Pillow"
      ],
      "metadata": {
        "colab": {
          "base_uri": "https://localhost:8080/"
        },
        "id": "nwlpcT20t86M",
        "outputId": "03a13be5-e5bd-4807-c6e3-9ddfe5d8a469"
      },
      "execution_count": 5,
      "outputs": [
        {
          "output_type": "stream",
          "name": "stdout",
          "text": [
            "Looking in indexes: https://pypi.org/simple, https://us-python.pkg.dev/colab-wheels/public/simple/\n",
            "Requirement already satisfied: opencv-python in /usr/local/lib/python3.7/dist-packages (4.6.0.66)\n",
            "Requirement already satisfied: numpy>=1.14.5 in /usr/local/lib/python3.7/dist-packages (from opencv-python) (1.21.6)\n",
            "Looking in indexes: https://pypi.org/simple, https://us-python.pkg.dev/colab-wheels/public/simple/\n",
            "Requirement already satisfied: opencv-contrib-python in /usr/local/lib/python3.7/dist-packages (4.6.0.66)\n",
            "Requirement already satisfied: numpy>=1.14.5 in /usr/local/lib/python3.7/dist-packages (from opencv-contrib-python) (1.21.6)\n",
            "Looking in indexes: https://pypi.org/simple, https://us-python.pkg.dev/colab-wheels/public/simple/\n",
            "Requirement already satisfied: numpy in /usr/local/lib/python3.7/dist-packages (1.21.6)\n",
            "Looking in indexes: https://pypi.org/simple, https://us-python.pkg.dev/colab-wheels/public/simple/\n",
            "Requirement already satisfied: Pillow in /usr/local/lib/python3.7/dist-packages (7.1.2)\n"
          ]
        }
      ]
    },
    {
      "cell_type": "code",
      "source": [
        "import os\n",
        "import cv2\n",
        "import numpy as np\n",
        "import pandas as pd\n",
        "import IPython.display as dp\n",
        "from google.colab.patches import cv2_imshow\n",
        "\n",
        "%cd /content/drive/MyDrive/'AI突擊!'/5_training/\n",
        "\n",
        "species = [\"onion\"] #\"pear\",\"sesbania\",\"custardapple\",\"passionfruit\",\"roseapple\",\n",
        "\n",
        "for s in species:\n",
        "  #建立空陣列紀錄資訊\n",
        "  data = []\n",
        "\n",
        "  #將目錄下的檔名讀取出來 取出所有檔名並排序\n",
        "  dirPath = s\n",
        "  f = [f for f in os.listdir(dirPath) if os.path.isfile(os.path.join(dirPath, f))]\n",
        "  filename_list = sorted(f)\n",
        "\n",
        "  #建立物種檔案夾\n",
        "  if not os.path.isdir(f\"100_crop/{s}\"):\n",
        "        os.mkdir(f\"100_crop/{s}\")\n",
        "\n",
        "  #取出前200份檔案進行處理，其中100份為預估多取的資料，之後進行人工刪除不良資料\n",
        "  for fliename in filename_list[200:250]:\n",
        "    try:\n",
        "      img = cv2.imread(f\"{s}/{fliename}\")\n",
        "\n",
        "      #取出圖片黃色的部分找到準心 並且膨脹後取出輪廓矩陣\n",
        "      img_locate_aimpoint = cv2.inRange(img, (0, 225, 225), (25, 255, 255))\n",
        "      img_dilate = cv2.dilate(img_locate_aimpoint,np.ones((35,17)))\n",
        "      p, t=cv2.findContours(img_dilate, cv2.RETR_CCOMP, cv2.CHAIN_APPROX_SIMPLE)\n",
        "      if len(p) != 0:\n",
        "        pm = []\n",
        "        for i in range(0,len(p)):\n",
        "          pm.append(len(p[i]))\n",
        "\n",
        "        #成功取到輪廓的圖片後 找出包含最大輪廓的矩形\n",
        "        x, y, w, h = cv2.boundingRect(p[pm.index(max(pm))])\n",
        "\n",
        "        #取矩形的中心座標 並且兩倍邊寬(2*w)的長度將片範圍裁切\n",
        "        cen_x, cen_y = x+w/2, y+h/2\n",
        "        image = img[int(cen_y-w):int(cen_y+w), int(cen_x-w):int(cen_x+w)]\n",
        "\n",
        "        #將圖片改成224*224大小 寫入到100_crop底下的物種檔案夾\n",
        "        img_resize = cv2.resize(image, (224, 224), interpolation=cv2.INTER_AREA)\n",
        "        cv2.imwrite(f\"100_crop/{s}/{fliename}\",img_resize, [cv2.IMWRITE_JPEG_QUALITY,100])\n",
        "        print(s,fliename,\"ssuccess\")\n",
        "\n",
        "        #將相片資訊記錄在CSV黨裡面 以便管理\n",
        "        data.append([fliename, img.shape[1], img.shape[0], cen_x-img.shape[1]/2, cen_y-img.shape[0]/2, w, s, \"OK\"])\n",
        "    except:\n",
        "      print(\"********* one error message miss *********\")\n",
        "\n",
        "  d = pd.DataFrame(data, columns = [\"Img\", \"相片寬\", \"相片長\", \"預估準心位置_x\", \"預估準心位置_y\", \"預估準心寬度\", \"物種\", \"不良照片\"])\n",
        "  d.to_csv(f\"100_crop/{s}/{s}_100.csv\",index = False)\n",
        "  print(s,f\"{len(data)} savd\")"
      ],
      "metadata": {
        "colab": {
          "base_uri": "https://localhost:8080/"
        },
        "id": "Mp5oWsptwT3M",
        "outputId": "4407decd-c183-4678-b787-b9704c62c9ad"
      },
      "execution_count": 1,
      "outputs": [
        {
          "output_type": "stream",
          "name": "stdout",
          "text": [
            "/content/drive/MyDrive/AI突擊!/5_training\n",
            "onion 167b3805-baf8-4c60-9d14-2c12937dc3c1.jpg ssuccess\n",
            "onion 168932aa-9877-46ee-95f6-e49a117eadbe.jpg ssuccess\n",
            "onion 16bf7642-82fb-4f3c-9a5f-d644cedc5814.jpg ssuccess\n",
            "onion 16c95e5c-e4c5-47d2-9e8c-fa577da01d9d.jpg ssuccess\n",
            "onion 16f01457-18ba-47fe-8416-837ea17453f5.jpg ssuccess\n",
            "onion 16f0ee8e-7f4e-426d-aa41-d8c4fc29bdd7.jpg ssuccess\n",
            "onion 16fa70ba-ccdf-4248-839f-294b3d378b7f.jpg ssuccess\n",
            "onion 1719e768-4e5e-460a-abd5-c88fa9795440.jpg ssuccess\n",
            "onion 172416cc-cc70-4ac3-b63b-a085a88e034d.jpg ssuccess\n",
            "onion 17414c5e-824f-447d-9623-a1c28ba022d3.jpg ssuccess\n",
            "onion 176a3c0f-d9ed-4170-8afe-791b81a9d033.jpg ssuccess\n",
            "onion 17ea512d-60c6-4350-b58d-be99cdb7c3e1.jpg ssuccess\n",
            "onion 17fcccc1-9c53-4e88-9c51-6d02e242124b.jpg ssuccess\n",
            "onion 180256d1-a623-402b-bd59-c4427683b946.jpg ssuccess\n",
            "onion 1822b97c-4d07-498b-89e9-f3d94e271f23.jpg ssuccess\n",
            "onion 1829b29e-1d58-4192-90e0-2658739fa0e2.jpg ssuccess\n",
            "onion 18395a40-a593-49b6-bc02-eaf417ef0015.jpg ssuccess\n",
            "onion 18417080-0964-466b-a121-3cec7f5d09f2.jpg ssuccess\n",
            "onion 185348d2-c48a-454e-a3b7-5259bb259cf1.jpg ssuccess\n",
            "onion 185a645e-1521-4bce-a050-6ff0dd54ad13.jpg ssuccess\n",
            "onion 18606961-5467-484d-a6fe-a7270eb8aace.jpg ssuccess\n",
            "onion 18901852-d151-4de8-bc22-b5e3e403f605.jpg ssuccess\n",
            "onion 18ab0dcb-0ef7-4776-98d7-e13eca15a127.jpg ssuccess\n",
            "onion 18b6a43e-35d9-439c-a845-f7ee3c2ead4a.jpg ssuccess\n",
            "onion 18b9ccef-36c2-4868-bb61-d123267cec74.jpg ssuccess\n",
            "onion 1901d524-db01-4ec7-a332-26dc96c6bb57.jpg ssuccess\n",
            "onion 1916f2de-5495-4ca2-aa44-79e89b2ab491.jpg ssuccess\n",
            "onion 1921c264-4f33-4e0b-b2f9-90c3004c3f10.jpg ssuccess\n",
            "onion 199c9da8-cd58-4ccf-80c4-f8961247624f.jpg ssuccess\n",
            "onion 1a3c0288-8888-4af1-98f8-500eea2cc4c3.jpg ssuccess\n",
            "onion 1a79a5be-d787-49c9-a73a-58c9d0919c01.jpg ssuccess\n",
            "onion 1adbcda7-a3b0-498d-86ae-4f2dd82299a8.jpg ssuccess\n",
            "onion 1b3f9e9d-c293-4c5b-95a4-0cdfe8394b6c.jpg ssuccess\n",
            "onion 1b7515a9-cbd9-4d02-b7bc-27b034bd7e12.jpg ssuccess\n",
            "onion 1bbe9c7c-1bbc-47bb-ab3e-c114fb2fd091.jpg ssuccess\n",
            "onion 1bc34f88-eeda-48bc-ab57-897e590db7ac.jpg ssuccess\n",
            "onion 1be2c31c-6999-41a5-aeaa-1451a4b66099.jpg ssuccess\n",
            "onion 37 savd\n"
          ]
        }
      ]
    }
  ]
}